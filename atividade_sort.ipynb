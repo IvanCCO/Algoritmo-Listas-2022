{
  "nbformat": 4,
  "nbformat_minor": 0,
  "metadata": {
    "colab": {
      "provenance": [],
      "collapsed_sections": [
        "-o7ROtedlZAV"
      ],
      "authorship_tag": "ABX9TyNfjVv8dk7A1oSTKqMoec0t",
      "include_colab_link": true
    },
    "kernelspec": {
      "name": "python3",
      "display_name": "Python 3"
    },
    "language_info": {
      "name": "python"
    }
  },
  "cells": [
    {
      "cell_type": "markdown",
      "metadata": {
        "id": "view-in-github",
        "colab_type": "text"
      },
      "source": [
        "<a href=\"https://colab.research.google.com/github/IvanCCO/Algoritmo-Listas-2022/blob/main/atividade_sort.ipynb\" target=\"_parent\"><img src=\"https://colab.research.google.com/assets/colab-badge.svg\" alt=\"Open In Colab\"/></a>"
      ]
    },
    {
      "cell_type": "markdown",
      "source": [
        "# Executar os algoritmos bubble sort e quick sort\n",
        "\n",
        "Submeta o mesmo vetor para os dois algoritmos\n",
        "\n",
        "Teste vetores com os seguintes tamanhos:\n",
        "100\n",
        "1000\n",
        "10000\n",
        "100000\n",
        "1000000\n",
        "10000000\n",
        "\n",
        "Gerar um relarorio para apresentar:\n",
        "\n",
        "o valor estimado de complexidade para cada algoritmo usado, n² e n.log(n), calcule isto\n",
        "\n",
        "quantidade de memoria utilizada\n",
        "\n",
        "tempo gasto em segundos ou minutos\n",
        "\n",
        "quantidade de ciclos gastos\n",
        "\n",
        "Apresntar estes valores em um relatório\n",
        "Apresentar graficos comparativos para\n",
        "\n",
        "complexidade estimada\n",
        "memoria gasta\n",
        "tempo gasto\n",
        "ciclos gastos\n",
        "\n",
        "discussão e conclusão\n",
        "\n"
      ],
      "metadata": {
        "id": "4r7HNam2kiR0"
      }
    },
    {
      "cell_type": "code",
      "source": [
        "# Imports\n",
        "import time\n",
        "import matplotlib.pyplot as plt\n",
        "import numpy as np\n",
        "import matplotlib as mpl"
      ],
      "metadata": {
        "id": "mPwozvV5kv2-"
      },
      "execution_count": 7,
      "outputs": []
    },
    {
      "cell_type": "markdown",
      "source": [
        "# Bubble Sort\n",
        "\n",
        "Talvez a maneira mais intuitiva de se fazer uma ordenação, onde percorremos o array duas vezes, comparando o atual com o próximo e trocando caso o atual é maior que o próximo"
      ],
      "metadata": {
        "id": "Guz2pOEAlJB2"
      }
    },
    {
      "cell_type": "code",
      "source": [
        "def bubble_sort(arr):\n",
        "    n = len(arr)\n",
        "    # Percorre todos os elementos do array\n",
        "    for i in range(n):\n",
        "        # Últimos i elementos já estão no lugar certo, então não precisamos mais verificar eles\n",
        "        for j in range(0, n - i - 1):\n",
        "            # Percorre o array de 0 a n-i-1\n",
        "            # Troca se o elemento atual for maior que o próximo\n",
        "            if arr[j] > arr[j + 1]:\n",
        "                arr[j], arr[j + 1] = arr[j + 1], arr[j]\n",
        "    return arr"
      ],
      "metadata": {
        "id": "Leke2haIk1R3"
      },
      "execution_count": 4,
      "outputs": []
    },
    {
      "cell_type": "markdown",
      "source": [
        "# Quick Sort\n",
        "\n",
        "> Dividir para conquistar\n",
        "\n",
        "Se escolhe um pivot e separa o array de um lado números maiores que o pivot e do outro um número menores que o pivot"
      ],
      "metadata": {
        "id": "-o7ROtedlZAV"
      }
    },
    {
      "cell_type": "code",
      "source": [
        "def partition(arr, low, high):\n",
        "    # Pega o último elemento como pivô\n",
        "    pivot = arr[high]\n",
        "\n",
        "    # Índice do menor elemento\n",
        "    i = low - 1\n",
        "\n",
        "    for j in range(low, high):\n",
        "        # Se o elemento atual for menor ou igual ao pivô\n",
        "        if arr[j] <= pivot:\n",
        "            # Incrementa o índice do menor elemento\n",
        "            i += 1\n",
        "            # Troca arr[i] com arr[j]\n",
        "            arr[i], arr[j] = arr[j], arr[i]\n",
        "\n",
        "    # Troca arr[i+1] com arr[high] (o pivô)\n",
        "    arr[i + 1], arr[high] = arr[high], arr[i + 1]\n",
        "    return i + 1"
      ],
      "metadata": {
        "id": "G8WrB0L1lF-8"
      },
      "execution_count": 5,
      "outputs": []
    },
    {
      "cell_type": "code",
      "source": [
        "def quick_sort(arr, low, high):\n",
        "    if low < high:\n",
        "        # Encontra o índice do pivô\n",
        "        pi = partition(arr, low, high)\n",
        "\n",
        "        # Divide e conquista\n",
        "        quick_sort(arr, low, pi - 1)\n",
        "        quick_sort(arr, pi + 1, high)"
      ],
      "metadata": {
        "id": "4zrOGtS2k9Wx"
      },
      "execution_count": 6,
      "outputs": []
    }
  ]
}