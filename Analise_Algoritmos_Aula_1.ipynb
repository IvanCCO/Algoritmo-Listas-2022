{
  "nbformat": 4,
  "nbformat_minor": 0,
  "metadata": {
    "colab": {
      "provenance": [],
      "authorship_tag": "ABX9TyNOAsnu/ytaj4KVxc6MH2CW",
      "include_colab_link": true
    },
    "kernelspec": {
      "name": "python3",
      "display_name": "Python 3"
    },
    "language_info": {
      "name": "python"
    }
  },
  "cells": [
    {
      "cell_type": "markdown",
      "metadata": {
        "id": "view-in-github",
        "colab_type": "text"
      },
      "source": [
        "<a href=\"https://colab.research.google.com/github/IvanCCO/Algoritmo-Listas-2022/blob/main/Analise_Algoritmos_Aula_1.ipynb\" target=\"_parent\"><img src=\"https://colab.research.google.com/assets/colab-badge.svg\" alt=\"Open In Colab\"/></a>"
      ]
    },
    {
      "cell_type": "markdown",
      "source": [
        "# Aula 1: Introdução análise de algoritmos\n",
        "\n",
        "A posição da memória é mudada com a nova atribuição da variável, então o garbage collector ele limpa tudo que não é mais usado...\n",
        "\n",
        "*Garbage collector que permitiu a computação ser o que é hoje. *\n",
        "\n",
        "---\n",
        "\n"
      ],
      "metadata": {
        "id": "BUmd58uz_LGj"
      }
    },
    {
      "cell_type": "code",
      "source": [
        "string_1 = \"Preço da bolinha é\"\n",
        "string_2 = \"R$100,00\"\n",
        "msg = string_1 + \" \" + string_2\n",
        "\n",
        "print(id(msg))\n",
        "\n",
        "msg = msg + \" \" + \"Pepino\"\n",
        "\n",
        "print(msg)\n",
        "print(id(msg))"
      ],
      "metadata": {
        "colab": {
          "base_uri": "https://localhost:8080/"
        },
        "id": "OBLfS_DY-DnT",
        "outputId": "c4b69e8d-31e1-4632-c33a-7c24822311db"
      },
      "execution_count": 35,
      "outputs": [
        {
          "output_type": "stream",
          "name": "stdout",
          "text": [
            "140007018005536\n",
            "Preço da bolinha é R$100,00 Pepino\n",
            "140007018006880\n"
          ]
        }
      ]
    },
    {
      "cell_type": "markdown",
      "source": [
        "Teste: Fazendo a mesma coisa com uma variável Inteira\n",
        "...ocorre o mesmo comportamento...\n",
        "\n",
        "Pensei que não ia acontecer, mas é um pouco diferente pois aqui fica claro que quanto maior o numero de sum maior o id do endereço da memória"
      ],
      "metadata": {
        "id": "pKfGR1ZwAc1U"
      }
    },
    {
      "cell_type": "code",
      "source": [
        "num_1 = 1\n",
        "num_2 = 2\n",
        "sum = num_1 + num_2\n",
        "\n",
        "print(id(sum))\n",
        "\n",
        "sum -=3\n",
        "\n",
        "print(id(sum))"
      ],
      "metadata": {
        "colab": {
          "base_uri": "https://localhost:8080/"
        },
        "id": "Xd08w9CfAn4Y",
        "outputId": "0ea67932-a16c-4f0f-85d1-90b7814660ad"
      },
      "execution_count": 31,
      "outputs": [
        {
          "output_type": "stream",
          "name": "stdout",
          "text": [
            "140007722828080\n",
            "140007722827984\n"
          ]
        }
      ]
    },
    {
      "cell_type": "code",
      "source": [
        "x = \"bolinha\""
      ],
      "metadata": {
        "id": "cYQ0pae8XaAS"
      },
      "execution_count": null,
      "outputs": []
    },
    {
      "cell_type": "code",
      "source": [
        "print(id(x))"
      ],
      "metadata": {
        "id": "tIhrZex_Xdhs"
      },
      "execution_count": null,
      "outputs": []
    },
    {
      "cell_type": "code",
      "source": [
        "y = x"
      ],
      "metadata": {
        "id": "Hjd-QmbtXeS0"
      },
      "execution_count": null,
      "outputs": []
    },
    {
      "cell_type": "code",
      "source": [
        "print(id(y))"
      ],
      "metadata": {
        "id": "dsDz6BFAXfkP"
      },
      "execution_count": null,
      "outputs": []
    },
    {
      "cell_type": "code",
      "source": [
        "del x"
      ],
      "metadata": {
        "id": "fTUc9aPNXkcS"
      },
      "execution_count": null,
      "outputs": []
    },
    {
      "cell_type": "code",
      "source": [
        "print(id(y))"
      ],
      "metadata": {
        "id": "_nyorEYGXlnA"
      },
      "execution_count": null,
      "outputs": []
    }
  ]
}